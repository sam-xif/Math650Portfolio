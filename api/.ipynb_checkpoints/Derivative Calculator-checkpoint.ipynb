{
 "cells": [
  {
   "cell_type": "code",
   "execution_count": 4,
   "metadata": {
    "collapsed": true
   },
   "outputs": [],
   "source": [
    "\"\"\"\n",
    "Token defs\n",
    "\"\"\"\n",
    "\n",
    "# Basic tokens\n",
    "CONSTANT = 0\n",
    "VARIABLE = 1\n",
    "ADD = 2\n",
    "SUB = 3\n",
    "MULT = 4\n",
    "DIV = 5\n",
    "OPENPAREN = 6\n",
    "CLOSEPAREN = 7\n",
    "CARET = 8\n",
    "EQUAL = 9\n",
    "\n",
    "# Special tokens\n",
    "SIN = 10\n",
    "COS = 11\n",
    "TAN = 12\n",
    "LN = 13\n",
    "\n",
    "\n",
    "REGEXES = {\n",
    "    # Special tokens go first because otherwise the lexer could accidentally match a variable\n",
    "    r'sin': SIN,\n",
    "    r'cos': COS,\n",
    "    r'tan': TAN,\n",
    "    r'ln': LN,\n",
    "    \n",
    "    r'[0-9]+': CONSTANT,\n",
    "    r'[a-zA-Z]': VARIABLE,\n",
    "    r'\\+': ADD,\n",
    "    r'-': SUB,\n",
    "    r'\\*': MULT,\n",
    "    r'/': DIV,\n",
    "    r'\\(': OPENPAREN,\n",
    "    r'\\)': CLOSEPAREN,\n",
    "    r'\\^': CARET,\n",
    "    r'=': EQUAL\n",
    "}\n",
    "\n"
   ]
  },
  {
   "cell_type": "code",
   "execution_count": 5,
   "metadata": {
    "collapsed": true
   },
   "outputs": [],
   "source": [
    "\"\"\"\n",
    "Class defs\n",
    "\"\"\"\n",
    "\n",
    "import re\n",
    "        \n",
    "class MathLexer:\n",
    "    def __init__(self, expression):\n",
    "        self.expression = expression\n",
    "        \n",
    "    def lex(self):\n",
    "        index = 0\n",
    "        tokens = []\n",
    "        while index < len(self.expression):\n",
    "            substring = self.expression[index:]\n",
    "            for regex in REGEXES:\n",
    "                match = re.match(regex, substring)\n",
    "                if match is not None:\n",
    "                    tokens.append((REGEXES[regex], match.group(0)))\n",
    "                    index += (match.end() - match.start())\n",
    "                    break\n",
    "                    \n",
    "        return tokens"
   ]
  },
  {
   "cell_type": "code",
   "execution_count": 6,
   "metadata": {
    "collapsed": false
   },
   "outputs": [
    {
     "name": "stdout",
     "output_type": "stream",
     "text": [
      "(22+x)+(y+x+(x+y))\n"
     ]
    },
    {
     "data": {
      "text/plain": [
       "[(6, '('),\n",
       " (0, '22'),\n",
       " (2, '+'),\n",
       " (1, 'x'),\n",
       " (7, ')'),\n",
       " (2, '+'),\n",
       " (6, '('),\n",
       " (1, 'y'),\n",
       " (2, '+'),\n",
       " (1, 'x'),\n",
       " (2, '+'),\n",
       " (6, '('),\n",
       " (1, 'x'),\n",
       " (2, '+'),\n",
       " (1, 'y'),\n",
       " (7, ')'),\n",
       " (7, ')')]"
      ]
     },
     "execution_count": 6,
     "metadata": {},
     "output_type": "execute_result"
    }
   ],
   "source": [
    "expression = '(22+x)+(y+x+(x+y))'\n",
    "print(expression[0:])\n",
    "\n",
    "lex = MathLexer(expression)\n",
    "lex.lex()"
   ]
  },
  {
   "cell_type": "code",
   "execution_count": 11,
   "metadata": {
    "collapsed": false
   },
   "outputs": [],
   "source": [
    "class SyntaxTree:\n",
    "    def __init__(self, root):\n",
    "        self.root = root\n",
    "\n",
    "class SyntaxTreeNode:\n",
    "    def __init__(self):\n",
    "        self.parent = None\n",
    "        self.children = []\n",
    "        self.tag = None\n",
    "        self.data = None\n",
    "        \n",
    "    def addChild(self, child):\n",
    "        child.parent = self\n",
    "        self.children.append(child)\n",
    "        \n",
    "    def display(self, tabs):\n",
    "        string = ''.join(['   ' for x in range(tabs)]) + '{0}: {1}\\n'.format(self.tag, self.data)\n",
    "        for c in self.children:\n",
    "            string += c.display(tabs + 1)\n",
    "            \n",
    "        return string\n",
    "        \n",
    "    def __repr__(self):\n",
    "        return self.display(0)\n",
    "\n",
    "def nodeFromToken(token):\n",
    "    node = SyntaxTreeNode()\n",
    "    node.tag = 'TOKEN'\n",
    "    node.data = token\n",
    "    return node\n",
    "\n",
    "        \n",
    "class TokenStream:\n",
    "    def __init__(self, tokens):\n",
    "        self.tokens = tokens\n",
    "        self.position = 0\n",
    "        self.positionStack = []\n",
    "        \n",
    "    def end(self):\n",
    "        if self.position >= len(self.tokens) - 1:\n",
    "            return True\n",
    "        else:\n",
    "            return False\n",
    "        \n",
    "    def seek(self, position):\n",
    "        self.position = position\n",
    "        \n",
    "    def peek(self):\n",
    "        return self.tokens[self.position]\n",
    "    \n",
    "    def consume(self):\n",
    "        tok = self.tokens[self.position]\n",
    "        self.position += 1\n",
    "        return tok\n",
    "    \n",
    "    def rewind(self):\n",
    "        self.position = 0\n",
    "        \n",
    "    def pushpos(self):\n",
    "        self.positionStack.append(self.position)\n",
    "        \n",
    "    def poppos(self):\n",
    "        return self.positionStack.pop(len(self.positionStack) - 1)\n",
    "\n",
    "class MathParser:\n",
    "    def __init__(self, tokens):\n",
    "        self.ts = TokenStream(tokens)\n",
    "        self.position = 0\n",
    "        \n",
    "    def parse(self):\n",
    "        root = SyntaxTreeNode()\n",
    "        root.tag = 'ROOT'\n",
    "        #while not self.ts.end():\n",
    "        self.expr(root)     \n",
    "            \n",
    "        return root\n",
    "    \n",
    "    def expr(self, root):\n",
    "        self.ts.pushpos()\n",
    "        node = SyntaxTreeNode()\n",
    "        node.tag = 'EXPR'\n",
    "        \n",
    "        terminals = [CLOSEPAREN]\n",
    "        \n",
    "        while not self.ts.end() and self.ts.peek()[0] not in terminals:\n",
    "            if self.ts.peek()[0] == ADD:\n",
    "                node.addChild(nodeFromToken(self.ts.consume()))\n",
    "            elif self.ts.peek()[0] == SUB:\n",
    "                node.addChild(nodeFromToken(self.ts.consume()))\n",
    "            else:\n",
    "                self.term(node)\n",
    "                \n",
    "        root.addChild(node)\n",
    "            \n",
    "    def term(self, root):\n",
    "        self.ts.pushpos()\n",
    "        node = SyntaxTreeNode()\n",
    "        node.tag = 'TERM'\n",
    "        if self.ts.end():\n",
    "            return\n",
    "        \n",
    "        terminals = [ADD, SUB]\n",
    "        while not self.ts.end() and self.ts.peek()[0] not in terminals:\n",
    "            if self.ts.peek()[0] == MULT or self.ts.peek()[0] == DIV:\n",
    "                node.addChild(nodeFromToken(self.ts.consume()))\n",
    "            else:\n",
    "                self.factor(node)\n",
    "            \n",
    "        \"\"\"\n",
    "        if self.ts.peek()[0] == OPENPAREN:\n",
    "            node.addChild(nodeFromToken(self.ts.consume()))\n",
    "            self.factor(node)\n",
    "            if self.ts.peek()[0] == CLOSEPAREN:\n",
    "                node.addChild(nodeFromToken(self.ts.consume()))\n",
    "        elif self.ts.peek()[0] == CONSTANT:\n",
    "            node.addChild(nodeFromToken(self.ts.consume()))\n",
    "        elif self.ts.peek()[0] == VARIABLE:\n",
    "            node.addChild(nodeFromToken(self.ts.consume()))\n",
    "           \"\"\" \n",
    "        root.addChild(node)\n",
    "        \n",
    "    def factor(self, root):\n",
    "        self.ts.pushpos()\n",
    "        node = SyntaxTreeNode()\n",
    "        node.tag = 'FACTOR'\n",
    "        terminals = [MULT, DIV]\n",
    "        \n",
    "        if self.ts.peek()[0] == OPENPAREN:\n",
    "            node.addChild(nodeFromToken(self.ts.consume()))\n",
    "            self.expr(node)\n",
    "            if self.ts.peek()[0] == CLOSEPAREN:\n",
    "                node.addChild(nodeFromToken(self.ts.consume()))\n",
    "        elif self.ts.peek()[0] == CONSTANT:\n",
    "            node.addChild(nodeFromToken(self.ts.consume()))\n",
    "        elif self.ts.peek()[0] == VARIABLE:\n",
    "            node.addChild(nodeFromToken(self.ts.consume()))\n",
    "            \n",
    "        root.addChild(node)\n",
    "        \n",
    "    def prune(self):\n",
    "        pass\n",
    "        \n",
    "# (22+x)+y\n"
   ]
  },
  {
   "cell_type": "code",
   "execution_count": 12,
   "metadata": {
    "collapsed": false
   },
   "outputs": [],
   "source": [
    "p = MathParser(lex.lex())"
   ]
  },
  {
   "cell_type": "code",
   "execution_count": 13,
   "metadata": {
    "collapsed": false
   },
   "outputs": [],
   "source": [
    "node = p.parse()"
   ]
  },
  {
   "cell_type": "code",
   "execution_count": 14,
   "metadata": {
    "collapsed": false,
    "scrolled": false
   },
   "outputs": [
    {
     "data": {
      "text/plain": [
       "ROOT: None\n",
       "   EXPR: None\n",
       "      TERM: None\n",
       "         TOKEN: (6, '(')\n",
       "         EXPR: None\n",
       "            TERM: None\n",
       "               TOKEN: (0, '22')\n",
       "            TOKEN: (2, '+')\n",
       "            TERM: None\n",
       "               TOKEN: (1, 'x')\n",
       "         TOKEN: (7, ')')\n",
       "      TOKEN: (2, '+')\n",
       "      TERM: None\n",
       "         TOKEN: (6, '(')\n",
       "         EXPR: None\n",
       "            TERM: None\n",
       "               TOKEN: (1, 'y')\n",
       "            TOKEN: (2, '+')\n",
       "            TERM: None\n",
       "               TOKEN: (1, 'x')\n",
       "            TOKEN: (2, '+')\n",
       "            TERM: None\n",
       "               TOKEN: (6, '(')\n",
       "               EXPR: None\n",
       "                  TERM: None\n",
       "                     TOKEN: (1, 'x')\n",
       "                  TOKEN: (2, '+')\n",
       "                  TERM: None\n",
       "                     TOKEN: (1, 'y')\n",
       "               TOKEN: (7, ')')\n",
       "         TOKEN: (7, ')')"
      ]
     },
     "execution_count": 14,
     "metadata": {},
     "output_type": "execute_result"
    }
   ],
   "source": [
    "node"
   ]
  },
  {
   "cell_type": "code",
   "execution_count": null,
   "metadata": {
    "collapsed": true
   },
   "outputs": [],
   "source": []
  }
 ],
 "metadata": {
  "kernelspec": {
   "display_name": "Python [Root]",
   "language": "python",
   "name": "Python [Root]"
  },
  "language_info": {
   "codemirror_mode": {
    "name": "ipython",
    "version": 3
   },
   "file_extension": ".py",
   "mimetype": "text/x-python",
   "name": "python",
   "nbconvert_exporter": "python",
   "pygments_lexer": "ipython3",
   "version": "3.5.2"
  }
 },
 "nbformat": 4,
 "nbformat_minor": 0
}
