{
 "cells": [
  {
   "cell_type": "code",
   "execution_count": 3,
   "metadata": {
    "collapsed": true
   },
   "outputs": [],
   "source": [
    "import json"
   ]
  },
  {
   "cell_type": "code",
   "execution_count": 48,
   "metadata": {
    "collapsed": false
   },
   "outputs": [],
   "source": [
    "class Node(json.JSONEncoder):\n",
    "    def __init__(self, data):\n",
    "        self.isRoot = False\n",
    "        self.parent = None\n",
    "        self.children = []\n",
    "        self.data = data\n",
    "        self.layer = None\n",
    "        self.index = None\n",
    "    \n",
    "    def addChild(self, child):\n",
    "        if child.layer != None and self.layer > child.layer:\n",
    "            return False\n",
    "        \n",
    "        child.parent = self\n",
    "        self.children.append(child)\n",
    "        child.layer = self.layer + 1\n",
    "        return True\n",
    "    \n",
    "    def makeRoot(self):\n",
    "        self.layer = 0\n",
    "        self.isRoot = True\n",
    "    \n",
    "    def stringify(self):\n",
    "        return json.dumps(self.__dict__)\n",
    "    \n",
    "    def __repr__(self):\n",
    "        return str(self.index)\n",
    "    \n",
    "    def getJSON(self, keyname):\n",
    "        if keyname == 'children':\n",
    "            return [int(repr(x)) for x in self.children]\n",
    "        elif keyname == 'parent':\n",
    "            return None if self.parent is None else int(repr(self.parent))\n",
    "        else:\n",
    "            return self.__dict__[keyname]\n",
    "    \n",
    "    def default(self, obj):\n",
    "        return {x:obj.getJSON(x) for x in obj.__dict__.keys()}\n",
    "        \n",
    "class NodeList(json.JSONEncoder):\n",
    "    def __init__(self, array=[]):\n",
    "        for i,x in enumerate(array):\n",
    "            x.index = i\n",
    "        self.nodes = array\n",
    "        \n",
    "    def add(self, node):\n",
    "        node.index = len(self.nodes)\n",
    "        self.nodes.append(node)\n",
    "        \n",
    "    def remove(self, index):\n",
    "        del self.nodes[index]\n",
    "        \n",
    "    def default(self, obj):\n",
    "        return [x.default(x) for x in obj.nodes]"
   ]
  },
  {
   "cell_type": "code",
   "execution_count": 55,
   "metadata": {
    "collapsed": false
   },
   "outputs": [],
   "source": [
    "functions = []\n",
    "\n",
    "a = Node(\"f(x)=2x\")\n",
    "a.makeRoot()\n",
    "b = Node(\"x\")\n",
    "a.addChild(b)\n",
    "\n",
    "arr = NodeList(array=[a,b])\n",
    "functions.append(arr.default(arr))\n",
    "\n",
    "c = Node(\"g(x,y)=x^2+y^2\")\n",
    "c.makeRoot()\n",
    "d = Node(\"x\")\n",
    "c.addChild(d)\n",
    "e = Node(\"y\")\n",
    "c.addChild(e)\n",
    "\n",
    "functions.append(arr.default(NodeList(array=[c,d,e])))\n",
    "\n",
    "f = Node(\"h(x)=x^2\")\n",
    "g = Node(\"x(s,t)=s^2+t^2\")\n",
    "h = Node(\"s(u)=2u\")\n",
    "i = Node(\"t(u)=u+4\")\n",
    "j = Node(\"u\")\n",
    "f.makeRoot()\n",
    "f.addChild(g)\n",
    "g.addChild(h)\n",
    "g.addChild(i)\n",
    "h.addChild(j)\n",
    "i.addChild(j)\n",
    "\n",
    "functions.append(arr.default(NodeList(array=[f,g,h,i,j])))\n"
   ]
  },
  {
   "cell_type": "code",
   "execution_count": 56,
   "metadata": {
    "collapsed": false,
    "scrolled": false
   },
   "outputs": [
    {
     "data": {
      "text/plain": [
       "[[{'children': [1],\n",
       "   'data': 'f(x)=2x',\n",
       "   'index': 0,\n",
       "   'isRoot': True,\n",
       "   'layer': 0,\n",
       "   'parent': None},\n",
       "  {'children': [],\n",
       "   'data': 'x',\n",
       "   'index': 1,\n",
       "   'isRoot': False,\n",
       "   'layer': 1,\n",
       "   'parent': 0}],\n",
       " [{'children': [1, 2],\n",
       "   'data': 'g(x,y)=x^2+y^2',\n",
       "   'index': 0,\n",
       "   'isRoot': True,\n",
       "   'layer': 0,\n",
       "   'parent': None},\n",
       "  {'children': [],\n",
       "   'data': 'x',\n",
       "   'index': 1,\n",
       "   'isRoot': False,\n",
       "   'layer': 1,\n",
       "   'parent': 0},\n",
       "  {'children': [],\n",
       "   'data': 'y',\n",
       "   'index': 2,\n",
       "   'isRoot': False,\n",
       "   'layer': 1,\n",
       "   'parent': 0}],\n",
       " [{'children': [1],\n",
       "   'data': 'h(x)=x^2',\n",
       "   'index': 0,\n",
       "   'isRoot': True,\n",
       "   'layer': 0,\n",
       "   'parent': None},\n",
       "  {'children': [2, 3],\n",
       "   'data': 'x(s,t)=s^2+t^2',\n",
       "   'index': 1,\n",
       "   'isRoot': False,\n",
       "   'layer': 1,\n",
       "   'parent': 0},\n",
       "  {'children': [4],\n",
       "   'data': 's(u)=2u',\n",
       "   'index': 2,\n",
       "   'isRoot': False,\n",
       "   'layer': 2,\n",
       "   'parent': 1},\n",
       "  {'children': [4],\n",
       "   'data': 't(u)=u+4',\n",
       "   'index': 3,\n",
       "   'isRoot': False,\n",
       "   'layer': 2,\n",
       "   'parent': 1},\n",
       "  {'children': [],\n",
       "   'data': 'u',\n",
       "   'index': 4,\n",
       "   'isRoot': False,\n",
       "   'layer': 3,\n",
       "   'parent': 3}]]"
      ]
     },
     "execution_count": 56,
     "metadata": {},
     "output_type": "execute_result"
    }
   ],
   "source": [
    "functions"
   ]
  },
  {
   "cell_type": "code",
   "execution_count": 57,
   "metadata": {
    "collapsed": false
   },
   "outputs": [
    {
     "data": {
      "text/plain": [
       "'[[{\"parent\": null, \"index\": 0, \"isRoot\": true, \"layer\": 0, \"data\": \"f(x)=2x\", \"children\": [1]}, {\"parent\": 0, \"index\": 1, \"isRoot\": false, \"layer\": 1, \"data\": \"x\", \"children\": []}], [{\"parent\": null, \"index\": 0, \"isRoot\": true, \"layer\": 0, \"data\": \"g(x,y)=x^2+y^2\", \"children\": [1, 2]}, {\"parent\": 0, \"index\": 1, \"isRoot\": false, \"layer\": 1, \"data\": \"x\", \"children\": []}, {\"parent\": 0, \"index\": 2, \"isRoot\": false, \"layer\": 1, \"data\": \"y\", \"children\": []}], [{\"parent\": null, \"index\": 0, \"isRoot\": true, \"layer\": 0, \"data\": \"h(x)=x^2\", \"children\": [1]}, {\"parent\": 0, \"index\": 1, \"isRoot\": false, \"layer\": 1, \"data\": \"x(s,t)=s^2+t^2\", \"children\": [2, 3]}, {\"parent\": 1, \"index\": 2, \"isRoot\": false, \"layer\": 2, \"data\": \"s(u)=2u\", \"children\": [4]}, {\"parent\": 1, \"index\": 3, \"isRoot\": false, \"layer\": 2, \"data\": \"t(u)=u+4\", \"children\": [4]}, {\"parent\": 3, \"index\": 4, \"isRoot\": false, \"layer\": 3, \"data\": \"u\", \"children\": []}]]'"
      ]
     },
     "execution_count": 57,
     "metadata": {},
     "output_type": "execute_result"
    }
   ],
   "source": [
    "json.dumps([x for x in functions])"
   ]
  },
  {
   "cell_type": "code",
   "execution_count": 58,
   "metadata": {
    "collapsed": false
   },
   "outputs": [],
   "source": [
    "with open('functions.json', 'w+') as f:\n",
    "    f.write(json.dumps([x for x in functions]))"
   ]
  },
  {
   "cell_type": "code",
   "execution_count": null,
   "metadata": {
    "collapsed": true
   },
   "outputs": [],
   "source": []
  }
 ],
 "metadata": {
  "anaconda-cloud": {},
  "kernelspec": {
   "display_name": "Python [Root]",
   "language": "python",
   "name": "Python [Root]"
  },
  "language_info": {
   "codemirror_mode": {
    "name": "ipython",
    "version": 3
   },
   "file_extension": ".py",
   "mimetype": "text/x-python",
   "name": "python",
   "nbconvert_exporter": "python",
   "pygments_lexer": "ipython3",
   "version": "3.5.2"
  }
 },
 "nbformat": 4,
 "nbformat_minor": 1
}
