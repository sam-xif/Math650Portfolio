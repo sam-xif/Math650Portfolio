{
 "cells": [
  {
   "cell_type": "code",
   "execution_count": 1,
   "metadata": {
    "collapsed": true
   },
   "outputs": [],
   "source": [
    "import json"
   ]
  },
  {
   "cell_type": "code",
   "execution_count": 175,
   "metadata": {
    "collapsed": false
   },
   "outputs": [],
   "source": [
    "class Node(json.JSONEncoder):\n",
    "    def __init__(self, data):\n",
    "        self.isRoot = False\n",
    "        self.parent = None\n",
    "        self.children = []\n",
    "        self.data = data\n",
    "        self.layer = None\n",
    "        self.index = None\n",
    "    \n",
    "    def addChild(self, child):\n",
    "        if child.layer != None and self.layer > child.layer:\n",
    "            return False\n",
    "        \n",
    "        child.parent = self\n",
    "        self.children.append(child)\n",
    "        child.layer = self.layer + 1\n",
    "        return True\n",
    "    \n",
    "    def makeRoot(self):\n",
    "        self.layer = 0\n",
    "        self.isRoot = True\n",
    "    \n",
    "    def stringify(self):\n",
    "        return json.dumps(self.__dict__)\n",
    "    \n",
    "    def __repr__(self):\n",
    "        return str(self.index)\n",
    "    \n",
    "    def getJSON(self, keyname):\n",
    "        if keyname == 'children':\n",
    "            return [int(repr(x)) for x in self.children]\n",
    "        elif keyname == 'parent':\n",
    "            return None if self.parent is None else int(repr(self.parent))\n",
    "        else:\n",
    "            return self.__dict__[keyname]\n",
    "    \n",
    "    def default(self, obj):\n",
    "        return {x:self.getJSON(x) for x in self.__dict__.keys()}\n",
    "        \n",
    "class NodeList(json.JSONEncoder):\n",
    "    def __init__(self, array=[]):\n",
    "        for i,x in enumerate(array):\n",
    "            x.index = i\n",
    "        self.nodes = array\n",
    "        \n",
    "    def add(self, node):\n",
    "        node.index = len(self.nodes)\n",
    "        self.nodes.append(node)\n",
    "        \n",
    "    def remove(self, index):\n",
    "        del self.nodes[index]\n",
    "        \n",
    "    def default(self, obj):\n",
    "        return [x.default(x) for x in self.nodes]"
   ]
  },
  {
   "cell_type": "code",
   "execution_count": 189,
   "metadata": {
    "collapsed": false
   },
   "outputs": [],
   "source": [
    "functions = []\n",
    "\n",
    "n = Node(\"f(x)=2x\")\n",
    "n.makeRoot()\n",
    "x = Node(\"x\")\n",
    "n.addChild(x)\n",
    "\n",
    "arr = NodeList(array=[n,x])\n",
    "functions.append(arr.default(arr))\n",
    "\n",
    "m = Node(\"g(x,y)=x^2+y^2\")\n",
    "m.makeRoot()\n",
    "\n"
   ]
  },
  {
   "cell_type": "code",
   "execution_count": 190,
   "metadata": {
    "collapsed": false
   },
   "outputs": [
    {
     "data": {
      "text/plain": [
       "[[{'children': [1],\n",
       "   'data': 'f(x)=2x',\n",
       "   'index': 0,\n",
       "   'isRoot': True,\n",
       "   'layer': 0,\n",
       "   'parent': None},\n",
       "  {'children': [],\n",
       "   'data': 'x',\n",
       "   'index': 1,\n",
       "   'isRoot': False,\n",
       "   'layer': 1,\n",
       "   'parent': 0}]]"
      ]
     },
     "execution_count": 190,
     "metadata": {},
     "output_type": "execute_result"
    }
   ],
   "source": [
    "functions"
   ]
  },
  {
   "cell_type": "code",
   "execution_count": 185,
   "metadata": {
    "collapsed": false
   },
   "outputs": [
    {
     "data": {
      "text/plain": [
       "'[[{\"isRoot\": true, \"layer\": 0, \"index\": 0, \"data\": \"f(x)=2x\", \"parent\": null, \"children\": [1]}, {\"isRoot\": false, \"layer\": 1, \"index\": 1, \"data\": \"x\", \"parent\": 0, \"children\": []}]]'"
      ]
     },
     "execution_count": 185,
     "metadata": {},
     "output_type": "execute_result"
    }
   ],
   "source": [
    "json.dumps([x.default(x) for x in functions])"
   ]
  },
  {
   "cell_type": "code",
   "execution_count": 187,
   "metadata": {
    "collapsed": false
   },
   "outputs": [],
   "source": [
    "with open('functions.json', 'w+') as f:\n",
    "    f.write(json.dumps([x.default(x) for x in functions]))"
   ]
  },
  {
   "cell_type": "code",
   "execution_count": null,
   "metadata": {
    "collapsed": true
   },
   "outputs": [],
   "source": []
  }
 ],
 "metadata": {
  "anaconda-cloud": {},
  "kernelspec": {
   "display_name": "Python [Root]",
   "language": "python",
   "name": "Python [Root]"
  },
  "language_info": {
   "codemirror_mode": {
    "name": "ipython",
    "version": 3
   },
   "file_extension": ".py",
   "mimetype": "text/x-python",
   "name": "python",
   "nbconvert_exporter": "python",
   "pygments_lexer": "ipython3",
   "version": "3.5.2"
  }
 },
 "nbformat": 4,
 "nbformat_minor": 1
}
